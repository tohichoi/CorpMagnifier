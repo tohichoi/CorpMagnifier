{
 "cells": [
  {
   "cell_type": "code",
   "execution_count": 96,
   "metadata": {
    "collapsed": true
   },
   "outputs": [],
   "source": [
    "import pandas as pd\n",
    "import sqlite3\n",
    "from config import cmconf\n",
    "from pathlib import Path\n",
    "import numpy as np"
   ]
  },
  {
   "cell_type": "markdown",
   "source": [
    "# 데이터베이스 불러오기"
   ],
   "metadata": {
    "collapsed": false
   }
  },
  {
   "cell_type": "code",
   "execution_count": 97,
   "outputs": [],
   "source": [
    "dbpath = Path(cmconf['path']['root']) / Path(cmconf['path']['db'])\n",
    "conn = sqlite3.connect(dbpath)\n",
    "cur = conn.cursor()"
   ],
   "metadata": {
    "collapsed": false
   }
  },
  {
   "cell_type": "markdown",
   "source": [
    "# 기업과 관련된 재무제표 불러오기"
   ],
   "metadata": {
    "collapsed": false
   }
  },
  {
   "cell_type": "code",
   "execution_count": 98,
   "outputs": [],
   "source": [
    "corp_name = '삼성전자'"
   ],
   "metadata": {
    "collapsed": false
   }
  },
  {
   "cell_type": "code",
   "execution_count": 106,
   "outputs": [],
   "source": [
    "sql = '''\n",
    "select c.name as 'corp_name', m.name as 'market', r.year, r.quarter, rt.name, r.date, ri.account_code, ri.account_name, ri.amount\n",
    "from Report as r\n",
    "inner join ReportItem as ri on ri.report = r.id\n",
    "inner join StockCode as sc on sc.corporation = r.corporation\n",
    "inner join corporation as c on c.id = r.corporation\n",
    "inner join market as m on sc.market = m.id\n",
    "inner join sector as st on c.sector = st.id\n",
    "inner join ReportType as rt on rt.id = r.report_type\n",
    "where\n",
    "    c.name = ? and\n",
    "    rt.name like '%포괄손익%연결%'\n",
    "order by date;\n",
    "'''\n",
    "# columns = [\n",
    "#     '회사명', '시장', '연도', '분기', '보고서유형', '결산일', '계정코드', '계정명', '금액'\n",
    "# ]\n",
    "df = pd.read_sql(sql, conn, params=(corp_name,))"
   ],
   "metadata": {
    "collapsed": false
   }
  },
  {
   "cell_type": "code",
   "execution_count": 107,
   "outputs": [
    {
     "data": {
      "text/plain": "    corp_name      market  year quarter                        name   \n0        삼성전자  유가증권시장상장법인  2017  1분기보고서  포괄손익계산서(세후기타포괄손익) - 연결재무제표  \\\n1        삼성전자  유가증권시장상장법인  2017  1분기보고서  포괄손익계산서(세후기타포괄손익) - 연결재무제표   \n2        삼성전자  유가증권시장상장법인  2017  1분기보고서  포괄손익계산서(세후기타포괄손익) - 연결재무제표   \n3        삼성전자  유가증권시장상장법인  2017  1분기보고서  포괄손익계산서(세후기타포괄손익) - 연결재무제표   \n4        삼성전자  유가증권시장상장법인  2017  1분기보고서  포괄손익계산서(세후기타포괄손익) - 연결재무제표   \n..        ...         ...   ...     ...                         ...   \n308      삼성전자  유가증권시장상장법인  2023  1분기보고서  포괄손익계산서(세후기타포괄손익) - 연결재무제표   \n309      삼성전자  유가증권시장상장법인  2023  1분기보고서  포괄손익계산서(세후기타포괄손익) - 연결재무제표   \n310      삼성전자  유가증권시장상장법인  2023  1분기보고서  포괄손익계산서(세후기타포괄손익) - 연결재무제표   \n311      삼성전자  유가증권시장상장법인  2023  1분기보고서  포괄손익계산서(세후기타포괄손익) - 연결재무제표   \n312      삼성전자  유가증권시장상장법인  2023  1분기보고서  포괄손익계산서(세후기타포괄손익) - 연결재무제표   \n\n           date                                       account_code   \n0    2017-03-31                                    ifrs_ProfitLoss  \\\n1    2017-03-31                      ifrs_OtherComprehensiveIncome   \n2    2017-03-31  dart_OtherComprehensiveIncomeThatWillNotBeRecl...   \n3    2017-03-31  entity00126380_udf_IS_201732919385733_OtherCom...   \n4    2017-03-31  entity00126380_udf_IS_20164261642947_OtherComp...   \n..          ...                                                ...   \n308  2023-03-31      ifrs-full_GainsLossesOnCashFlowHedgesNetOfTax   \n309  2023-03-31                      ifrs-full_ComprehensiveIncome   \n310  2023-03-31  ifrs-full_ComprehensiveIncomeAttributableToAbs...   \n311  2023-03-31  ifrs-full_ComprehensiveIncomeAttributableToOwn...   \n312  2023-03-31  ifrs-full_ComprehensiveIncomeAttributableToNon...   \n\n                   account_name             amount  \n0                     당기순이익(손실)  7,684,354,000,000  \n1                        기타포괄손익 -4,932,049,000,000  \n2    후속적으로 당기손익으로 재분류되지 않는 포괄손익    -39,214,000,000  \n3                 순확정급여부채 재측정요소    -39,098,000,000  \n4    관계기업 및 공동기업의 기타포괄손익에 대한 지분       -116,000,000  \n..                          ...                ...  \n308            현금흐름위험회피파생상품평가손익      8,108,000,000  \n309                       총포괄손익  7,554,100,000,000  \n310                    포괄손익의 귀속                NaN  \n311                  지배기업 소유주지분  7,286,763,000,000  \n312                       비지배지분    267,337,000,000  \n\n[313 rows x 9 columns]",
      "text/html": "<div>\n<style scoped>\n    .dataframe tbody tr th:only-of-type {\n        vertical-align: middle;\n    }\n\n    .dataframe tbody tr th {\n        vertical-align: top;\n    }\n\n    .dataframe thead th {\n        text-align: right;\n    }\n</style>\n<table border=\"1\" class=\"dataframe\">\n  <thead>\n    <tr style=\"text-align: right;\">\n      <th></th>\n      <th>corp_name</th>\n      <th>market</th>\n      <th>year</th>\n      <th>quarter</th>\n      <th>name</th>\n      <th>date</th>\n      <th>account_code</th>\n      <th>account_name</th>\n      <th>amount</th>\n    </tr>\n  </thead>\n  <tbody>\n    <tr>\n      <th>0</th>\n      <td>삼성전자</td>\n      <td>유가증권시장상장법인</td>\n      <td>2017</td>\n      <td>1분기보고서</td>\n      <td>포괄손익계산서(세후기타포괄손익) - 연결재무제표</td>\n      <td>2017-03-31</td>\n      <td>ifrs_ProfitLoss</td>\n      <td>당기순이익(손실)</td>\n      <td>7,684,354,000,000</td>\n    </tr>\n    <tr>\n      <th>1</th>\n      <td>삼성전자</td>\n      <td>유가증권시장상장법인</td>\n      <td>2017</td>\n      <td>1분기보고서</td>\n      <td>포괄손익계산서(세후기타포괄손익) - 연결재무제표</td>\n      <td>2017-03-31</td>\n      <td>ifrs_OtherComprehensiveIncome</td>\n      <td>기타포괄손익</td>\n      <td>-4,932,049,000,000</td>\n    </tr>\n    <tr>\n      <th>2</th>\n      <td>삼성전자</td>\n      <td>유가증권시장상장법인</td>\n      <td>2017</td>\n      <td>1분기보고서</td>\n      <td>포괄손익계산서(세후기타포괄손익) - 연결재무제표</td>\n      <td>2017-03-31</td>\n      <td>dart_OtherComprehensiveIncomeThatWillNotBeRecl...</td>\n      <td>후속적으로 당기손익으로 재분류되지 않는 포괄손익</td>\n      <td>-39,214,000,000</td>\n    </tr>\n    <tr>\n      <th>3</th>\n      <td>삼성전자</td>\n      <td>유가증권시장상장법인</td>\n      <td>2017</td>\n      <td>1분기보고서</td>\n      <td>포괄손익계산서(세후기타포괄손익) - 연결재무제표</td>\n      <td>2017-03-31</td>\n      <td>entity00126380_udf_IS_201732919385733_OtherCom...</td>\n      <td>순확정급여부채 재측정요소</td>\n      <td>-39,098,000,000</td>\n    </tr>\n    <tr>\n      <th>4</th>\n      <td>삼성전자</td>\n      <td>유가증권시장상장법인</td>\n      <td>2017</td>\n      <td>1분기보고서</td>\n      <td>포괄손익계산서(세후기타포괄손익) - 연결재무제표</td>\n      <td>2017-03-31</td>\n      <td>entity00126380_udf_IS_20164261642947_OtherComp...</td>\n      <td>관계기업 및 공동기업의 기타포괄손익에 대한 지분</td>\n      <td>-116,000,000</td>\n    </tr>\n    <tr>\n      <th>...</th>\n      <td>...</td>\n      <td>...</td>\n      <td>...</td>\n      <td>...</td>\n      <td>...</td>\n      <td>...</td>\n      <td>...</td>\n      <td>...</td>\n      <td>...</td>\n    </tr>\n    <tr>\n      <th>308</th>\n      <td>삼성전자</td>\n      <td>유가증권시장상장법인</td>\n      <td>2023</td>\n      <td>1분기보고서</td>\n      <td>포괄손익계산서(세후기타포괄손익) - 연결재무제표</td>\n      <td>2023-03-31</td>\n      <td>ifrs-full_GainsLossesOnCashFlowHedgesNetOfTax</td>\n      <td>현금흐름위험회피파생상품평가손익</td>\n      <td>8,108,000,000</td>\n    </tr>\n    <tr>\n      <th>309</th>\n      <td>삼성전자</td>\n      <td>유가증권시장상장법인</td>\n      <td>2023</td>\n      <td>1분기보고서</td>\n      <td>포괄손익계산서(세후기타포괄손익) - 연결재무제표</td>\n      <td>2023-03-31</td>\n      <td>ifrs-full_ComprehensiveIncome</td>\n      <td>총포괄손익</td>\n      <td>7,554,100,000,000</td>\n    </tr>\n    <tr>\n      <th>310</th>\n      <td>삼성전자</td>\n      <td>유가증권시장상장법인</td>\n      <td>2023</td>\n      <td>1분기보고서</td>\n      <td>포괄손익계산서(세후기타포괄손익) - 연결재무제표</td>\n      <td>2023-03-31</td>\n      <td>ifrs-full_ComprehensiveIncomeAttributableToAbs...</td>\n      <td>포괄손익의 귀속</td>\n      <td>NaN</td>\n    </tr>\n    <tr>\n      <th>311</th>\n      <td>삼성전자</td>\n      <td>유가증권시장상장법인</td>\n      <td>2023</td>\n      <td>1분기보고서</td>\n      <td>포괄손익계산서(세후기타포괄손익) - 연결재무제표</td>\n      <td>2023-03-31</td>\n      <td>ifrs-full_ComprehensiveIncomeAttributableToOwn...</td>\n      <td>지배기업 소유주지분</td>\n      <td>7,286,763,000,000</td>\n    </tr>\n    <tr>\n      <th>312</th>\n      <td>삼성전자</td>\n      <td>유가증권시장상장법인</td>\n      <td>2023</td>\n      <td>1분기보고서</td>\n      <td>포괄손익계산서(세후기타포괄손익) - 연결재무제표</td>\n      <td>2023-03-31</td>\n      <td>ifrs-full_ComprehensiveIncomeAttributableToNon...</td>\n      <td>비지배지분</td>\n      <td>267,337,000,000</td>\n    </tr>\n  </tbody>\n</table>\n<p>313 rows × 9 columns</p>\n</div>"
     },
     "execution_count": 107,
     "metadata": {},
     "output_type": "execute_result"
    }
   ],
   "source": [
    "pd.options.display.float_format = '{:,.0f}'.format\n",
    "df"
   ],
   "metadata": {
    "collapsed": false
   }
  },
  {
   "cell_type": "markdown",
   "source": [
    "## nan row 제거"
   ],
   "metadata": {
    "collapsed": false
   }
  },
  {
   "cell_type": "code",
   "execution_count": 108,
   "outputs": [
    {
     "data": {
      "text/plain": "    corp_name      market  year quarter                        name   \n0        삼성전자  유가증권시장상장법인  2017      1Q  포괄손익계산서(세후기타포괄손익) - 연결재무제표  \\\n1        삼성전자  유가증권시장상장법인  2017      1Q  포괄손익계산서(세후기타포괄손익) - 연결재무제표   \n2        삼성전자  유가증권시장상장법인  2017      1Q  포괄손익계산서(세후기타포괄손익) - 연결재무제표   \n3        삼성전자  유가증권시장상장법인  2017      1Q  포괄손익계산서(세후기타포괄손익) - 연결재무제표   \n4        삼성전자  유가증권시장상장법인  2017      1Q  포괄손익계산서(세후기타포괄손익) - 연결재무제표   \n..        ...         ...   ...     ...                         ...   \n307      삼성전자  유가증권시장상장법인  2023      1Q  포괄손익계산서(세후기타포괄손익) - 연결재무제표   \n308      삼성전자  유가증권시장상장법인  2023      1Q  포괄손익계산서(세후기타포괄손익) - 연결재무제표   \n309      삼성전자  유가증권시장상장법인  2023      1Q  포괄손익계산서(세후기타포괄손익) - 연결재무제표   \n311      삼성전자  유가증권시장상장법인  2023      1Q  포괄손익계산서(세후기타포괄손익) - 연결재무제표   \n312      삼성전자  유가증권시장상장법인  2023      1Q  포괄손익계산서(세후기타포괄손익) - 연결재무제표   \n\n           date                                       account_code   \n0    2017-03-31                                    ifrs_ProfitLoss  \\\n1    2017-03-31                      ifrs_OtherComprehensiveIncome   \n2    2017-03-31  dart_OtherComprehensiveIncomeThatWillNotBeRecl...   \n3    2017-03-31  entity00126380_udf_IS_201732919385733_OtherCom...   \n4    2017-03-31  entity00126380_udf_IS_20164261642947_OtherComp...   \n..          ...                                                ...   \n307  2023-03-31  ifrs-full_GainsLossesOnExchangeDifferencesOnTr...   \n308  2023-03-31      ifrs-full_GainsLossesOnCashFlowHedgesNetOfTax   \n309  2023-03-31                      ifrs-full_ComprehensiveIncome   \n311  2023-03-31  ifrs-full_ComprehensiveIncomeAttributableToOwn...   \n312  2023-03-31  ifrs-full_ComprehensiveIncomeAttributableToNon...   \n\n                   account_name  amount  \n0                     당기순이익(손실)  76,844  \n1                        기타포괄손익 -49,320  \n2    후속적으로 당기손익으로 재분류되지 않는 포괄손익    -392  \n3                 순확정급여부채 재측정요소    -391  \n4    관계기업 및 공동기업의 기타포괄손익에 대한 지분      -1  \n..                          ...     ...  \n307                 해외사업장환산외환차이  50,569  \n308            현금흐름위험회피파생상품평가손익      81  \n309                       총포괄손익  75,541  \n311                  지배기업 소유주지분  72,868  \n312                       비지배지분   2,673  \n\n[234 rows x 9 columns]",
      "text/html": "<div>\n<style scoped>\n    .dataframe tbody tr th:only-of-type {\n        vertical-align: middle;\n    }\n\n    .dataframe tbody tr th {\n        vertical-align: top;\n    }\n\n    .dataframe thead th {\n        text-align: right;\n    }\n</style>\n<table border=\"1\" class=\"dataframe\">\n  <thead>\n    <tr style=\"text-align: right;\">\n      <th></th>\n      <th>corp_name</th>\n      <th>market</th>\n      <th>year</th>\n      <th>quarter</th>\n      <th>name</th>\n      <th>date</th>\n      <th>account_code</th>\n      <th>account_name</th>\n      <th>amount</th>\n    </tr>\n  </thead>\n  <tbody>\n    <tr>\n      <th>0</th>\n      <td>삼성전자</td>\n      <td>유가증권시장상장법인</td>\n      <td>2017</td>\n      <td>1Q</td>\n      <td>포괄손익계산서(세후기타포괄손익) - 연결재무제표</td>\n      <td>2017-03-31</td>\n      <td>ifrs_ProfitLoss</td>\n      <td>당기순이익(손실)</td>\n      <td>76,844</td>\n    </tr>\n    <tr>\n      <th>1</th>\n      <td>삼성전자</td>\n      <td>유가증권시장상장법인</td>\n      <td>2017</td>\n      <td>1Q</td>\n      <td>포괄손익계산서(세후기타포괄손익) - 연결재무제표</td>\n      <td>2017-03-31</td>\n      <td>ifrs_OtherComprehensiveIncome</td>\n      <td>기타포괄손익</td>\n      <td>-49,320</td>\n    </tr>\n    <tr>\n      <th>2</th>\n      <td>삼성전자</td>\n      <td>유가증권시장상장법인</td>\n      <td>2017</td>\n      <td>1Q</td>\n      <td>포괄손익계산서(세후기타포괄손익) - 연결재무제표</td>\n      <td>2017-03-31</td>\n      <td>dart_OtherComprehensiveIncomeThatWillNotBeRecl...</td>\n      <td>후속적으로 당기손익으로 재분류되지 않는 포괄손익</td>\n      <td>-392</td>\n    </tr>\n    <tr>\n      <th>3</th>\n      <td>삼성전자</td>\n      <td>유가증권시장상장법인</td>\n      <td>2017</td>\n      <td>1Q</td>\n      <td>포괄손익계산서(세후기타포괄손익) - 연결재무제표</td>\n      <td>2017-03-31</td>\n      <td>entity00126380_udf_IS_201732919385733_OtherCom...</td>\n      <td>순확정급여부채 재측정요소</td>\n      <td>-391</td>\n    </tr>\n    <tr>\n      <th>4</th>\n      <td>삼성전자</td>\n      <td>유가증권시장상장법인</td>\n      <td>2017</td>\n      <td>1Q</td>\n      <td>포괄손익계산서(세후기타포괄손익) - 연결재무제표</td>\n      <td>2017-03-31</td>\n      <td>entity00126380_udf_IS_20164261642947_OtherComp...</td>\n      <td>관계기업 및 공동기업의 기타포괄손익에 대한 지분</td>\n      <td>-1</td>\n    </tr>\n    <tr>\n      <th>...</th>\n      <td>...</td>\n      <td>...</td>\n      <td>...</td>\n      <td>...</td>\n      <td>...</td>\n      <td>...</td>\n      <td>...</td>\n      <td>...</td>\n      <td>...</td>\n    </tr>\n    <tr>\n      <th>307</th>\n      <td>삼성전자</td>\n      <td>유가증권시장상장법인</td>\n      <td>2023</td>\n      <td>1Q</td>\n      <td>포괄손익계산서(세후기타포괄손익) - 연결재무제표</td>\n      <td>2023-03-31</td>\n      <td>ifrs-full_GainsLossesOnExchangeDifferencesOnTr...</td>\n      <td>해외사업장환산외환차이</td>\n      <td>50,569</td>\n    </tr>\n    <tr>\n      <th>308</th>\n      <td>삼성전자</td>\n      <td>유가증권시장상장법인</td>\n      <td>2023</td>\n      <td>1Q</td>\n      <td>포괄손익계산서(세후기타포괄손익) - 연결재무제표</td>\n      <td>2023-03-31</td>\n      <td>ifrs-full_GainsLossesOnCashFlowHedgesNetOfTax</td>\n      <td>현금흐름위험회피파생상품평가손익</td>\n      <td>81</td>\n    </tr>\n    <tr>\n      <th>309</th>\n      <td>삼성전자</td>\n      <td>유가증권시장상장법인</td>\n      <td>2023</td>\n      <td>1Q</td>\n      <td>포괄손익계산서(세후기타포괄손익) - 연결재무제표</td>\n      <td>2023-03-31</td>\n      <td>ifrs-full_ComprehensiveIncome</td>\n      <td>총포괄손익</td>\n      <td>75,541</td>\n    </tr>\n    <tr>\n      <th>311</th>\n      <td>삼성전자</td>\n      <td>유가증권시장상장법인</td>\n      <td>2023</td>\n      <td>1Q</td>\n      <td>포괄손익계산서(세후기타포괄손익) - 연결재무제표</td>\n      <td>2023-03-31</td>\n      <td>ifrs-full_ComprehensiveIncomeAttributableToOwn...</td>\n      <td>지배기업 소유주지분</td>\n      <td>72,868</td>\n    </tr>\n    <tr>\n      <th>312</th>\n      <td>삼성전자</td>\n      <td>유가증권시장상장법인</td>\n      <td>2023</td>\n      <td>1Q</td>\n      <td>포괄손익계산서(세후기타포괄손익) - 연결재무제표</td>\n      <td>2023-03-31</td>\n      <td>ifrs-full_ComprehensiveIncomeAttributableToNon...</td>\n      <td>비지배지분</td>\n      <td>2,673</td>\n    </tr>\n  </tbody>\n</table>\n<p>234 rows × 9 columns</p>\n</div>"
     },
     "execution_count": 108,
     "metadata": {},
     "output_type": "execute_result"
    }
   ],
   "source": [
    "## nan row 제거\n",
    "df = df.dropna(subset=['amount'])\n",
    "df.reset_index(drop=True)\n",
    "\n",
    "## 의미있는 문자열로 변환\n",
    "df.loc[:, 'quarter'] = df.loc[:, 'quarter'].str.replace('1분기보고서', '1Q')\n",
    "df.loc[:, 'quarter'] = df.loc[:, 'quarter'].str.replace('반기보고서', '2Q')\n",
    "df.loc[:, 'quarter'] = df.loc[:, 'quarter'].str.replace('3분기보고서', '2Q')\n",
    "df.loc[:, 'quarter'] = df.loc[:, 'quarter'].str.replace('사업보고서', '4Q')\n",
    "\n",
    "## 금액 변환(억 단위)\n",
    "df.loc[:, 'amount'] = df['amount'].apply(lambda x: int(x) / 100000000)\n",
    "\n",
    "df"
   ],
   "metadata": {
    "collapsed": false
   }
  },
  {
   "cell_type": "markdown",
   "source": [
    "## 자산대비 부채비율"
   ],
   "metadata": {
    "collapsed": false
   }
  },
  {
   "cell_type": "code",
   "execution_count": 109,
   "outputs": [
    {
     "data": {
      "text/plain": "Series([], Name: amount, dtype: float64)"
     },
     "execution_count": 109,
     "metadata": {},
     "output_type": "execute_result"
    }
   ],
   "source": [
    "df2 = df[df['account_code'].isin(['ifrs_Assets', 'ifrs_Equity', 'ifrs_Liabilities'])]\n",
    "100 * df2.loc[df2['account_code'] == 'ifrs_Liabilities', 'amount'] / df2.loc[df2['account_code'] == 'ifrs_Assets', 'amount'].values"
   ],
   "metadata": {
    "collapsed": false
   }
  },
  {
   "cell_type": "markdown",
   "source": [
    "# 재무제표에서 해야할 질문\n",
    "## 매출, 영업이익, 비용, 부채\n",
    "\n",
    "   기업가치 = f(매출, 영업이익, 비용, 부채)\n",
    "\n",
    "### 매출이 기간동안 증가하고 있는가?, 얼만큼 증가하는가?\n",
    "\n",
    "### 영업이익이 기간동안 증가하고 있는가?, 얼만큼 증가하는가?\n",
    "\n",
    "### 비용이 기간동안 감소하거나 정체하고 있는가?\n",
    "\n",
    "### 부채가 기간동안 감소하거나 정체하고 있는가?\n",
    "\n",
    "## 최근 4분기(1년) 동안 매출 증가 비율\n",
    "\n",
    "# Macro 분석 지표\n",
    "## 기준 금리\n",
    "### 국채 시장 금리\n",
    "### 회사채 시장 금리\n",
    "## 경제성장률"
   ],
   "metadata": {
    "collapsed": false
   }
  }
 ],
 "metadata": {
  "kernelspec": {
   "display_name": "Python 3",
   "language": "python",
   "name": "python3"
  },
  "language_info": {
   "codemirror_mode": {
    "name": "ipython",
    "version": 2
   },
   "file_extension": ".py",
   "mimetype": "text/x-python",
   "name": "python",
   "nbconvert_exporter": "python",
   "pygments_lexer": "ipython2",
   "version": "2.7.6"
  }
 },
 "nbformat": 4,
 "nbformat_minor": 0
}
