{
 "cells": [
  {
   "cell_type": "code",
   "execution_count": 5,
   "metadata": {
    "collapsed": true
   },
   "outputs": [],
   "source": [
    "import pandas as pd\n",
    "import sqlite3\n",
    "from config import cmconf\n",
    "from pathlib import Path"
   ]
  },
  {
   "cell_type": "markdown",
   "source": [
    "# 데이터베이스 불러오기"
   ],
   "metadata": {
    "collapsed": false
   }
  },
  {
   "cell_type": "code",
   "execution_count": 7,
   "outputs": [],
   "source": [
    "dbpath = Path(cmconf['path']['root']) / Path(cmconf['path']['db'])\n",
    "conn = sqlite3.connect(dbpath)\n",
    "cur = conn.cursor()"
   ],
   "metadata": {
    "collapsed": false
   }
  },
  {
   "cell_type": "markdown",
   "source": [
    "# 기업과 관련된 재무제표 불러오기"
   ],
   "metadata": {
    "collapsed": false
   }
  },
  {
   "cell_type": "code",
   "execution_count": 101,
   "outputs": [],
   "source": [
    "corp_name = '3S'"
   ],
   "metadata": {
    "collapsed": false
   }
  },
  {
   "cell_type": "code",
   "execution_count": 94,
   "outputs": [],
   "source": [
    "sql = '''\n",
    "select c.name as 'corp_name', m.name as 'market', r.year, r.quarter, rt.name, r.date, ri.account_code, ri.account_name, ri.amount\n",
    "from Report as r\n",
    "inner join ReportItem as ri on ri.report = r.id\n",
    "inner join StockCode as sc on sc.corporation = r.corporation\n",
    "inner join corporation as c on c.id = r.corporation\n",
    "inner join market as m on sc.market = m.id\n",
    "inner join sector as st on c.sector = st.id\n",
    "inner join ReportType as rt on rt.id = r.report_type\n",
    "where c.name = ?\n",
    "'''\n",
    "# columns = [\n",
    "#     '회사명', '시장', '연도', '분기', '보고서유형', '결산일', '계정코드', '계정명', '금액'\n",
    "# ]\n",
    "df = pd.read_sql(sql, conn, params=(corp_name,))"
   ],
   "metadata": {
    "collapsed": false
   }
  },
  {
   "cell_type": "code",
   "execution_count": 95,
   "outputs": [
    {
     "data": {
      "text/plain": "   corp_name     market  year quarter                   name        date   \n0         3S  코스닥시장상장법인  2017   반기보고서  재무상태표, 유동/비유동법-별도재무제표  2017-09-30  \\\n1         3S  코스닥시장상장법인  2017   반기보고서  재무상태표, 유동/비유동법-별도재무제표  2017-09-30   \n2         3S  코스닥시장상장법인  2017   반기보고서  재무상태표, 유동/비유동법-별도재무제표  2017-09-30   \n3         3S  코스닥시장상장법인  2017   반기보고서  재무상태표, 유동/비유동법-별도재무제표  2017-09-30   \n4         3S  코스닥시장상장법인  2017   반기보고서  재무상태표, 유동/비유동법-별도재무제표  2017-09-30   \n5         3S  코스닥시장상장법인  2017   반기보고서  재무상태표, 유동/비유동법-별도재무제표  2017-09-30   \n6         3S  코스닥시장상장법인  2017   반기보고서  재무상태표, 유동/비유동법-별도재무제표  2017-09-30   \n7         3S  코스닥시장상장법인  2017   반기보고서  재무상태표, 유동/비유동법-별도재무제표  2017-09-30   \n8         3S  코스닥시장상장법인  2017   반기보고서  재무상태표, 유동/비유동법-별도재무제표  2017-09-30   \n9         3S  코스닥시장상장법인  2017   반기보고서  재무상태표, 유동/비유동법-별도재무제표  2017-09-30   \n10        3S  코스닥시장상장법인  2017   반기보고서  재무상태표, 유동/비유동법-별도재무제표  2017-09-30   \n11        3S  코스닥시장상장법인  2017   반기보고서  재무상태표, 유동/비유동법-별도재무제표  2017-09-30   \n12        3S  코스닥시장상장법인  2017   반기보고서  재무상태표, 유동/비유동법-별도재무제표  2017-09-30   \n13        3S  코스닥시장상장법인  2017   반기보고서  재무상태표, 유동/비유동법-별도재무제표  2017-09-30   \n14        3S  코스닥시장상장법인  2017   반기보고서  재무상태표, 유동/비유동법-별도재무제표  2017-09-30   \n15        3S  코스닥시장상장법인  2017   반기보고서  재무상태표, 유동/비유동법-별도재무제표  2017-09-30   \n16        3S  코스닥시장상장법인  2017   반기보고서  재무상태표, 유동/비유동법-별도재무제표  2017-09-30   \n17        3S  코스닥시장상장법인  2017   반기보고서  재무상태표, 유동/비유동법-별도재무제표  2017-09-30   \n18        3S  코스닥시장상장법인  2017   반기보고서  재무상태표, 유동/비유동법-별도재무제표  2017-09-30   \n19        3S  코스닥시장상장법인  2017   반기보고서  재무상태표, 유동/비유동법-별도재무제표  2017-09-30   \n20        3S  코스닥시장상장법인  2017   반기보고서  재무상태표, 유동/비유동법-별도재무제표  2017-09-30   \n21        3S  코스닥시장상장법인  2017   반기보고서  재무상태표, 유동/비유동법-별도재무제표  2017-09-30   \n22        3S  코스닥시장상장법인  2017   반기보고서  재무상태표, 유동/비유동법-별도재무제표  2017-09-30   \n23        3S  코스닥시장상장법인  2017   반기보고서  재무상태표, 유동/비유동법-별도재무제표  2017-09-30   \n24        3S  코스닥시장상장법인  2017   반기보고서  재무상태표, 유동/비유동법-별도재무제표  2017-09-30   \n25        3S  코스닥시장상장법인  2017   반기보고서  재무상태표, 유동/비유동법-별도재무제표  2017-09-30   \n26        3S  코스닥시장상장법인  2017   반기보고서  재무상태표, 유동/비유동법-별도재무제표  2017-09-30   \n27        3S  코스닥시장상장법인  2017   반기보고서  재무상태표, 유동/비유동법-별도재무제표  2017-09-30   \n28        3S  코스닥시장상장법인  2017   반기보고서  재무상태표, 유동/비유동법-별도재무제표  2017-09-30   \n29        3S  코스닥시장상장법인  2017   반기보고서  재무상태표, 유동/비유동법-별도재무제표  2017-09-30   \n30        3S  코스닥시장상장법인  2017   반기보고서  재무상태표, 유동/비유동법-별도재무제표  2017-09-30   \n31        3S  코스닥시장상장법인  2017   반기보고서  재무상태표, 유동/비유동법-별도재무제표  2017-09-30   \n32        3S  코스닥시장상장법인  2017   반기보고서  재무상태표, 유동/비유동법-별도재무제표  2017-09-30   \n33        3S  코스닥시장상장법인  2017   반기보고서  재무상태표, 유동/비유동법-별도재무제표  2017-09-30   \n34        3S  코스닥시장상장법인  2017   반기보고서  재무상태표, 유동/비유동법-별도재무제표  2017-09-30   \n35        3S  코스닥시장상장법인  2017   반기보고서  재무상태표, 유동/비유동법-별도재무제표  2017-09-30   \n36        3S  코스닥시장상장법인  2017   반기보고서  재무상태표, 유동/비유동법-별도재무제표  2017-09-30   \n37        3S  코스닥시장상장법인  2017   반기보고서  재무상태표, 유동/비유동법-별도재무제표  2017-09-30   \n38        3S  코스닥시장상장법인  2017   반기보고서  재무상태표, 유동/비유동법-별도재무제표  2017-09-30   \n\n                                         account_code   account_name   \n0                                 ifrs_AssetsAbstract  자산 [abstract]  \\\n1                                  ifrs_CurrentAssets           유동자산   \n2                         ifrs_CashAndCashEquivalents       현금및현금성자산   \n3   dart_ShortTermDepositsNotClassifiedAsCashEquiv...         단기금융상품   \n4                ifrs_TradeAndOtherCurrentReceivables      매출채권및기타채권   \n5       dart_ShortTermDueFromCustomersForContractWork          미청구공사   \n6                                    ifrs_Inventories           재고자산   \n7                               ifrs_CurrentTaxAssets        당기법인세자산   \n8                             dart_OtherCurrentAssets         기타유동자산   \n9                         dart_CurrentDerivativeAsset         파생금융상품   \n10                              ifrs_NoncurrentAssets          비유동자산   \n11  dart_LongTermTradeAndOtherNonCurrentReceivable...    장기매출채권및기타채권   \n12  dart_LongTermDepositsNotClassifiedAsCashEquiva...         장기금융상품   \n13     dart_NonCurrentAvailableForSaleFinancialAssets       매도가능금융자산   \n14  ifrs_InvestmentsInSubsidiariesJointVenturesAnd...    종속기업및관계기업투자   \n15                     ifrs_PropertyPlantAndEquipment           유형자산   \n16                            ifrs_InvestmentProperty          투자부동산   \n17             ifrs_IntangibleAssetsOtherThanGoodwill           무형자산   \n18                                        ifrs_Assets           자산총계   \n19                           ifrs_LiabilitiesAbstract  부채 [abstract]   \n20                            ifrs_CurrentLiabilities           유동부채   \n21                  ifrs_TradeAndOtherCurrentPayables      매입채무및기타채무   \n22        dart_ShortTermDueToCustomersForContractWork         초과청구공사   \n23                           ifrs_ShorttermBorrowings          단기차입금   \n24            ifrs_CurrentPortionOfLongtermBorrowings        유동성장기부채   \n25    dart_CurrentProvisionsForConstructionWarranties       하자보수충당부채   \n26                       dart_OtherCurrentLiabilities         기타유동부채   \n27                         ifrs_NoncurrentLiabilities          비유동부채   \n28           ifrs_OtherNoncurrentFinancialLiabilities         기타금융부채   \n29                       dart_LongTermBorrowingsGross          장기차입금   \n30                              dart_ConvertibleBonds           전환사채   \n31                                   ifrs_Liabilities           부채총계   \n32                                ifrs_EquityAbstract  자본 [abstract]   \n33                                 ifrs_IssuedCapital            자본금   \n34                                dart_CapitalSurplus         기타불입자본   \n35             dart_ElementsOfOtherStockholdersEquity       기타자본구성요소   \n36                              ifrs_RetainedEarnings     이익잉여금(결손금)   \n37                                        ifrs_Equity           자본총계   \n38                          ifrs_EquityAndLiabilities        자본과부채총계   \n\n          amount  \n0            nan  \n1    11706322326  \n2     2546144443  \n3      984355188  \n4     5587474227  \n5     1335933237  \n6      909341820  \n7        2445030  \n8      235748621  \n9      104879760  \n10   37348234673  \n11     353496624  \n12     375860000  \n13    2640235271  \n14     665449615  \n15   30259574175  \n16    1452920023  \n17    1600698965  \n18   49054556999  \n19           nan  \n20   12290394245  \n21    2412754988  \n22     350660448  \n23    8624459082  \n24     675600000  \n25     197650797  \n26      29268930  \n27    9291416505  \n28     206170970  \n29    3041750000  \n30    6043495535  \n31   21581810750  \n32           nan  \n33   20987069000  \n34   39125870404  \n35      32530220  \n36  -32672723375  \n37   27472746249  \n38   49054556999  ",
      "text/html": "<div>\n<style scoped>\n    .dataframe tbody tr th:only-of-type {\n        vertical-align: middle;\n    }\n\n    .dataframe tbody tr th {\n        vertical-align: top;\n    }\n\n    .dataframe thead th {\n        text-align: right;\n    }\n</style>\n<table border=\"1\" class=\"dataframe\">\n  <thead>\n    <tr style=\"text-align: right;\">\n      <th></th>\n      <th>corp_name</th>\n      <th>market</th>\n      <th>year</th>\n      <th>quarter</th>\n      <th>name</th>\n      <th>date</th>\n      <th>account_code</th>\n      <th>account_name</th>\n      <th>amount</th>\n    </tr>\n  </thead>\n  <tbody>\n    <tr>\n      <th>0</th>\n      <td>3S</td>\n      <td>코스닥시장상장법인</td>\n      <td>2017</td>\n      <td>반기보고서</td>\n      <td>재무상태표, 유동/비유동법-별도재무제표</td>\n      <td>2017-09-30</td>\n      <td>ifrs_AssetsAbstract</td>\n      <td>자산 [abstract]</td>\n      <td>nan</td>\n    </tr>\n    <tr>\n      <th>1</th>\n      <td>3S</td>\n      <td>코스닥시장상장법인</td>\n      <td>2017</td>\n      <td>반기보고서</td>\n      <td>재무상태표, 유동/비유동법-별도재무제표</td>\n      <td>2017-09-30</td>\n      <td>ifrs_CurrentAssets</td>\n      <td>유동자산</td>\n      <td>11706322326</td>\n    </tr>\n    <tr>\n      <th>2</th>\n      <td>3S</td>\n      <td>코스닥시장상장법인</td>\n      <td>2017</td>\n      <td>반기보고서</td>\n      <td>재무상태표, 유동/비유동법-별도재무제표</td>\n      <td>2017-09-30</td>\n      <td>ifrs_CashAndCashEquivalents</td>\n      <td>현금및현금성자산</td>\n      <td>2546144443</td>\n    </tr>\n    <tr>\n      <th>3</th>\n      <td>3S</td>\n      <td>코스닥시장상장법인</td>\n      <td>2017</td>\n      <td>반기보고서</td>\n      <td>재무상태표, 유동/비유동법-별도재무제표</td>\n      <td>2017-09-30</td>\n      <td>dart_ShortTermDepositsNotClassifiedAsCashEquiv...</td>\n      <td>단기금융상품</td>\n      <td>984355188</td>\n    </tr>\n    <tr>\n      <th>4</th>\n      <td>3S</td>\n      <td>코스닥시장상장법인</td>\n      <td>2017</td>\n      <td>반기보고서</td>\n      <td>재무상태표, 유동/비유동법-별도재무제표</td>\n      <td>2017-09-30</td>\n      <td>ifrs_TradeAndOtherCurrentReceivables</td>\n      <td>매출채권및기타채권</td>\n      <td>5587474227</td>\n    </tr>\n    <tr>\n      <th>5</th>\n      <td>3S</td>\n      <td>코스닥시장상장법인</td>\n      <td>2017</td>\n      <td>반기보고서</td>\n      <td>재무상태표, 유동/비유동법-별도재무제표</td>\n      <td>2017-09-30</td>\n      <td>dart_ShortTermDueFromCustomersForContractWork</td>\n      <td>미청구공사</td>\n      <td>1335933237</td>\n    </tr>\n    <tr>\n      <th>6</th>\n      <td>3S</td>\n      <td>코스닥시장상장법인</td>\n      <td>2017</td>\n      <td>반기보고서</td>\n      <td>재무상태표, 유동/비유동법-별도재무제표</td>\n      <td>2017-09-30</td>\n      <td>ifrs_Inventories</td>\n      <td>재고자산</td>\n      <td>909341820</td>\n    </tr>\n    <tr>\n      <th>7</th>\n      <td>3S</td>\n      <td>코스닥시장상장법인</td>\n      <td>2017</td>\n      <td>반기보고서</td>\n      <td>재무상태표, 유동/비유동법-별도재무제표</td>\n      <td>2017-09-30</td>\n      <td>ifrs_CurrentTaxAssets</td>\n      <td>당기법인세자산</td>\n      <td>2445030</td>\n    </tr>\n    <tr>\n      <th>8</th>\n      <td>3S</td>\n      <td>코스닥시장상장법인</td>\n      <td>2017</td>\n      <td>반기보고서</td>\n      <td>재무상태표, 유동/비유동법-별도재무제표</td>\n      <td>2017-09-30</td>\n      <td>dart_OtherCurrentAssets</td>\n      <td>기타유동자산</td>\n      <td>235748621</td>\n    </tr>\n    <tr>\n      <th>9</th>\n      <td>3S</td>\n      <td>코스닥시장상장법인</td>\n      <td>2017</td>\n      <td>반기보고서</td>\n      <td>재무상태표, 유동/비유동법-별도재무제표</td>\n      <td>2017-09-30</td>\n      <td>dart_CurrentDerivativeAsset</td>\n      <td>파생금융상품</td>\n      <td>104879760</td>\n    </tr>\n    <tr>\n      <th>10</th>\n      <td>3S</td>\n      <td>코스닥시장상장법인</td>\n      <td>2017</td>\n      <td>반기보고서</td>\n      <td>재무상태표, 유동/비유동법-별도재무제표</td>\n      <td>2017-09-30</td>\n      <td>ifrs_NoncurrentAssets</td>\n      <td>비유동자산</td>\n      <td>37348234673</td>\n    </tr>\n    <tr>\n      <th>11</th>\n      <td>3S</td>\n      <td>코스닥시장상장법인</td>\n      <td>2017</td>\n      <td>반기보고서</td>\n      <td>재무상태표, 유동/비유동법-별도재무제표</td>\n      <td>2017-09-30</td>\n      <td>dart_LongTermTradeAndOtherNonCurrentReceivable...</td>\n      <td>장기매출채권및기타채권</td>\n      <td>353496624</td>\n    </tr>\n    <tr>\n      <th>12</th>\n      <td>3S</td>\n      <td>코스닥시장상장법인</td>\n      <td>2017</td>\n      <td>반기보고서</td>\n      <td>재무상태표, 유동/비유동법-별도재무제표</td>\n      <td>2017-09-30</td>\n      <td>dart_LongTermDepositsNotClassifiedAsCashEquiva...</td>\n      <td>장기금융상품</td>\n      <td>375860000</td>\n    </tr>\n    <tr>\n      <th>13</th>\n      <td>3S</td>\n      <td>코스닥시장상장법인</td>\n      <td>2017</td>\n      <td>반기보고서</td>\n      <td>재무상태표, 유동/비유동법-별도재무제표</td>\n      <td>2017-09-30</td>\n      <td>dart_NonCurrentAvailableForSaleFinancialAssets</td>\n      <td>매도가능금융자산</td>\n      <td>2640235271</td>\n    </tr>\n    <tr>\n      <th>14</th>\n      <td>3S</td>\n      <td>코스닥시장상장법인</td>\n      <td>2017</td>\n      <td>반기보고서</td>\n      <td>재무상태표, 유동/비유동법-별도재무제표</td>\n      <td>2017-09-30</td>\n      <td>ifrs_InvestmentsInSubsidiariesJointVenturesAnd...</td>\n      <td>종속기업및관계기업투자</td>\n      <td>665449615</td>\n    </tr>\n    <tr>\n      <th>15</th>\n      <td>3S</td>\n      <td>코스닥시장상장법인</td>\n      <td>2017</td>\n      <td>반기보고서</td>\n      <td>재무상태표, 유동/비유동법-별도재무제표</td>\n      <td>2017-09-30</td>\n      <td>ifrs_PropertyPlantAndEquipment</td>\n      <td>유형자산</td>\n      <td>30259574175</td>\n    </tr>\n    <tr>\n      <th>16</th>\n      <td>3S</td>\n      <td>코스닥시장상장법인</td>\n      <td>2017</td>\n      <td>반기보고서</td>\n      <td>재무상태표, 유동/비유동법-별도재무제표</td>\n      <td>2017-09-30</td>\n      <td>ifrs_InvestmentProperty</td>\n      <td>투자부동산</td>\n      <td>1452920023</td>\n    </tr>\n    <tr>\n      <th>17</th>\n      <td>3S</td>\n      <td>코스닥시장상장법인</td>\n      <td>2017</td>\n      <td>반기보고서</td>\n      <td>재무상태표, 유동/비유동법-별도재무제표</td>\n      <td>2017-09-30</td>\n      <td>ifrs_IntangibleAssetsOtherThanGoodwill</td>\n      <td>무형자산</td>\n      <td>1600698965</td>\n    </tr>\n    <tr>\n      <th>18</th>\n      <td>3S</td>\n      <td>코스닥시장상장법인</td>\n      <td>2017</td>\n      <td>반기보고서</td>\n      <td>재무상태표, 유동/비유동법-별도재무제표</td>\n      <td>2017-09-30</td>\n      <td>ifrs_Assets</td>\n      <td>자산총계</td>\n      <td>49054556999</td>\n    </tr>\n    <tr>\n      <th>19</th>\n      <td>3S</td>\n      <td>코스닥시장상장법인</td>\n      <td>2017</td>\n      <td>반기보고서</td>\n      <td>재무상태표, 유동/비유동법-별도재무제표</td>\n      <td>2017-09-30</td>\n      <td>ifrs_LiabilitiesAbstract</td>\n      <td>부채 [abstract]</td>\n      <td>nan</td>\n    </tr>\n    <tr>\n      <th>20</th>\n      <td>3S</td>\n      <td>코스닥시장상장법인</td>\n      <td>2017</td>\n      <td>반기보고서</td>\n      <td>재무상태표, 유동/비유동법-별도재무제표</td>\n      <td>2017-09-30</td>\n      <td>ifrs_CurrentLiabilities</td>\n      <td>유동부채</td>\n      <td>12290394245</td>\n    </tr>\n    <tr>\n      <th>21</th>\n      <td>3S</td>\n      <td>코스닥시장상장법인</td>\n      <td>2017</td>\n      <td>반기보고서</td>\n      <td>재무상태표, 유동/비유동법-별도재무제표</td>\n      <td>2017-09-30</td>\n      <td>ifrs_TradeAndOtherCurrentPayables</td>\n      <td>매입채무및기타채무</td>\n      <td>2412754988</td>\n    </tr>\n    <tr>\n      <th>22</th>\n      <td>3S</td>\n      <td>코스닥시장상장법인</td>\n      <td>2017</td>\n      <td>반기보고서</td>\n      <td>재무상태표, 유동/비유동법-별도재무제표</td>\n      <td>2017-09-30</td>\n      <td>dart_ShortTermDueToCustomersForContractWork</td>\n      <td>초과청구공사</td>\n      <td>350660448</td>\n    </tr>\n    <tr>\n      <th>23</th>\n      <td>3S</td>\n      <td>코스닥시장상장법인</td>\n      <td>2017</td>\n      <td>반기보고서</td>\n      <td>재무상태표, 유동/비유동법-별도재무제표</td>\n      <td>2017-09-30</td>\n      <td>ifrs_ShorttermBorrowings</td>\n      <td>단기차입금</td>\n      <td>8624459082</td>\n    </tr>\n    <tr>\n      <th>24</th>\n      <td>3S</td>\n      <td>코스닥시장상장법인</td>\n      <td>2017</td>\n      <td>반기보고서</td>\n      <td>재무상태표, 유동/비유동법-별도재무제표</td>\n      <td>2017-09-30</td>\n      <td>ifrs_CurrentPortionOfLongtermBorrowings</td>\n      <td>유동성장기부채</td>\n      <td>675600000</td>\n    </tr>\n    <tr>\n      <th>25</th>\n      <td>3S</td>\n      <td>코스닥시장상장법인</td>\n      <td>2017</td>\n      <td>반기보고서</td>\n      <td>재무상태표, 유동/비유동법-별도재무제표</td>\n      <td>2017-09-30</td>\n      <td>dart_CurrentProvisionsForConstructionWarranties</td>\n      <td>하자보수충당부채</td>\n      <td>197650797</td>\n    </tr>\n    <tr>\n      <th>26</th>\n      <td>3S</td>\n      <td>코스닥시장상장법인</td>\n      <td>2017</td>\n      <td>반기보고서</td>\n      <td>재무상태표, 유동/비유동법-별도재무제표</td>\n      <td>2017-09-30</td>\n      <td>dart_OtherCurrentLiabilities</td>\n      <td>기타유동부채</td>\n      <td>29268930</td>\n    </tr>\n    <tr>\n      <th>27</th>\n      <td>3S</td>\n      <td>코스닥시장상장법인</td>\n      <td>2017</td>\n      <td>반기보고서</td>\n      <td>재무상태표, 유동/비유동법-별도재무제표</td>\n      <td>2017-09-30</td>\n      <td>ifrs_NoncurrentLiabilities</td>\n      <td>비유동부채</td>\n      <td>9291416505</td>\n    </tr>\n    <tr>\n      <th>28</th>\n      <td>3S</td>\n      <td>코스닥시장상장법인</td>\n      <td>2017</td>\n      <td>반기보고서</td>\n      <td>재무상태표, 유동/비유동법-별도재무제표</td>\n      <td>2017-09-30</td>\n      <td>ifrs_OtherNoncurrentFinancialLiabilities</td>\n      <td>기타금융부채</td>\n      <td>206170970</td>\n    </tr>\n    <tr>\n      <th>29</th>\n      <td>3S</td>\n      <td>코스닥시장상장법인</td>\n      <td>2017</td>\n      <td>반기보고서</td>\n      <td>재무상태표, 유동/비유동법-별도재무제표</td>\n      <td>2017-09-30</td>\n      <td>dart_LongTermBorrowingsGross</td>\n      <td>장기차입금</td>\n      <td>3041750000</td>\n    </tr>\n    <tr>\n      <th>30</th>\n      <td>3S</td>\n      <td>코스닥시장상장법인</td>\n      <td>2017</td>\n      <td>반기보고서</td>\n      <td>재무상태표, 유동/비유동법-별도재무제표</td>\n      <td>2017-09-30</td>\n      <td>dart_ConvertibleBonds</td>\n      <td>전환사채</td>\n      <td>6043495535</td>\n    </tr>\n    <tr>\n      <th>31</th>\n      <td>3S</td>\n      <td>코스닥시장상장법인</td>\n      <td>2017</td>\n      <td>반기보고서</td>\n      <td>재무상태표, 유동/비유동법-별도재무제표</td>\n      <td>2017-09-30</td>\n      <td>ifrs_Liabilities</td>\n      <td>부채총계</td>\n      <td>21581810750</td>\n    </tr>\n    <tr>\n      <th>32</th>\n      <td>3S</td>\n      <td>코스닥시장상장법인</td>\n      <td>2017</td>\n      <td>반기보고서</td>\n      <td>재무상태표, 유동/비유동법-별도재무제표</td>\n      <td>2017-09-30</td>\n      <td>ifrs_EquityAbstract</td>\n      <td>자본 [abstract]</td>\n      <td>nan</td>\n    </tr>\n    <tr>\n      <th>33</th>\n      <td>3S</td>\n      <td>코스닥시장상장법인</td>\n      <td>2017</td>\n      <td>반기보고서</td>\n      <td>재무상태표, 유동/비유동법-별도재무제표</td>\n      <td>2017-09-30</td>\n      <td>ifrs_IssuedCapital</td>\n      <td>자본금</td>\n      <td>20987069000</td>\n    </tr>\n    <tr>\n      <th>34</th>\n      <td>3S</td>\n      <td>코스닥시장상장법인</td>\n      <td>2017</td>\n      <td>반기보고서</td>\n      <td>재무상태표, 유동/비유동법-별도재무제표</td>\n      <td>2017-09-30</td>\n      <td>dart_CapitalSurplus</td>\n      <td>기타불입자본</td>\n      <td>39125870404</td>\n    </tr>\n    <tr>\n      <th>35</th>\n      <td>3S</td>\n      <td>코스닥시장상장법인</td>\n      <td>2017</td>\n      <td>반기보고서</td>\n      <td>재무상태표, 유동/비유동법-별도재무제표</td>\n      <td>2017-09-30</td>\n      <td>dart_ElementsOfOtherStockholdersEquity</td>\n      <td>기타자본구성요소</td>\n      <td>32530220</td>\n    </tr>\n    <tr>\n      <th>36</th>\n      <td>3S</td>\n      <td>코스닥시장상장법인</td>\n      <td>2017</td>\n      <td>반기보고서</td>\n      <td>재무상태표, 유동/비유동법-별도재무제표</td>\n      <td>2017-09-30</td>\n      <td>ifrs_RetainedEarnings</td>\n      <td>이익잉여금(결손금)</td>\n      <td>-32672723375</td>\n    </tr>\n    <tr>\n      <th>37</th>\n      <td>3S</td>\n      <td>코스닥시장상장법인</td>\n      <td>2017</td>\n      <td>반기보고서</td>\n      <td>재무상태표, 유동/비유동법-별도재무제표</td>\n      <td>2017-09-30</td>\n      <td>ifrs_Equity</td>\n      <td>자본총계</td>\n      <td>27472746249</td>\n    </tr>\n    <tr>\n      <th>38</th>\n      <td>3S</td>\n      <td>코스닥시장상장법인</td>\n      <td>2017</td>\n      <td>반기보고서</td>\n      <td>재무상태표, 유동/비유동법-별도재무제표</td>\n      <td>2017-09-30</td>\n      <td>ifrs_EquityAndLiabilities</td>\n      <td>자본과부채총계</td>\n      <td>49054556999</td>\n    </tr>\n  </tbody>\n</table>\n</div>"
     },
     "execution_count": 95,
     "metadata": {},
     "output_type": "execute_result"
    }
   ],
   "source": [
    "df"
   ],
   "metadata": {
    "collapsed": false
   }
  },
  {
   "cell_type": "markdown",
   "source": [
    "## 의미있는 문자열로 변환"
   ],
   "metadata": {
    "collapsed": false
   }
  },
  {
   "cell_type": "code",
   "execution_count": 96,
   "outputs": [],
   "source": [
    "df['quarter'] = df['quarter'].str.replace('반기보고서', '2Q')"
   ],
   "metadata": {
    "collapsed": false
   }
  },
  {
   "cell_type": "markdown",
   "source": [
    "## 관심있는 계정만 추출"
   ],
   "metadata": {
    "collapsed": false
   }
  },
  {
   "cell_type": "code",
   "execution_count": 97,
   "outputs": [],
   "source": [
    "df2 = df[df['account_code'].isin(['ifrs_Assets', 'ifrs_Equity', 'ifrs_Liabilities'])]"
   ],
   "metadata": {
    "collapsed": false
   }
  },
  {
   "cell_type": "markdown",
   "source": [
    "## 금액 변환(억 단위)"
   ],
   "metadata": {
    "collapsed": false
   }
  },
  {
   "cell_type": "code",
   "execution_count": 98,
   "outputs": [],
   "source": [
    "df2.loc[:, 'amount'] = df2['amount'].apply(lambda x: int(x) / 100000000)"
   ],
   "metadata": {
    "collapsed": false
   }
  },
  {
   "cell_type": "code",
   "execution_count": 99,
   "outputs": [
    {
     "data": {
      "text/plain": "   corp_name     market  year quarter                   name        date   \n18        3S  코스닥시장상장법인  2017      2Q  재무상태표, 유동/비유동법-별도재무제표  2017-09-30  \\\n31        3S  코스닥시장상장법인  2017      2Q  재무상태표, 유동/비유동법-별도재무제표  2017-09-30   \n37        3S  코스닥시장상장법인  2017      2Q  재무상태표, 유동/비유동법-별도재무제표  2017-09-30   \n\n        account_code account_name      amount  \n18       ifrs_Assets         자산총계   490.54557  \n31  ifrs_Liabilities         부채총계  215.818107  \n37       ifrs_Equity         자본총계  274.727462  ",
      "text/html": "<div>\n<style scoped>\n    .dataframe tbody tr th:only-of-type {\n        vertical-align: middle;\n    }\n\n    .dataframe tbody tr th {\n        vertical-align: top;\n    }\n\n    .dataframe thead th {\n        text-align: right;\n    }\n</style>\n<table border=\"1\" class=\"dataframe\">\n  <thead>\n    <tr style=\"text-align: right;\">\n      <th></th>\n      <th>corp_name</th>\n      <th>market</th>\n      <th>year</th>\n      <th>quarter</th>\n      <th>name</th>\n      <th>date</th>\n      <th>account_code</th>\n      <th>account_name</th>\n      <th>amount</th>\n    </tr>\n  </thead>\n  <tbody>\n    <tr>\n      <th>18</th>\n      <td>3S</td>\n      <td>코스닥시장상장법인</td>\n      <td>2017</td>\n      <td>2Q</td>\n      <td>재무상태표, 유동/비유동법-별도재무제표</td>\n      <td>2017-09-30</td>\n      <td>ifrs_Assets</td>\n      <td>자산총계</td>\n      <td>490.54557</td>\n    </tr>\n    <tr>\n      <th>31</th>\n      <td>3S</td>\n      <td>코스닥시장상장법인</td>\n      <td>2017</td>\n      <td>2Q</td>\n      <td>재무상태표, 유동/비유동법-별도재무제표</td>\n      <td>2017-09-30</td>\n      <td>ifrs_Liabilities</td>\n      <td>부채총계</td>\n      <td>215.818107</td>\n    </tr>\n    <tr>\n      <th>37</th>\n      <td>3S</td>\n      <td>코스닥시장상장법인</td>\n      <td>2017</td>\n      <td>2Q</td>\n      <td>재무상태표, 유동/비유동법-별도재무제표</td>\n      <td>2017-09-30</td>\n      <td>ifrs_Equity</td>\n      <td>자본총계</td>\n      <td>274.727462</td>\n    </tr>\n  </tbody>\n</table>\n</div>"
     },
     "execution_count": 99,
     "metadata": {},
     "output_type": "execute_result"
    }
   ],
   "source": [
    "df2"
   ],
   "metadata": {
    "collapsed": false
   }
  },
  {
   "cell_type": "code",
   "execution_count": 100,
   "outputs": [
    {
     "data": {
      "text/plain": "31    43.995527\nName: amount, dtype: object"
     },
     "execution_count": 100,
     "metadata": {},
     "output_type": "execute_result"
    }
   ],
   "source": [
    "# 자산대비 부채비율\n",
    "100 * df2.loc[df2['account_code'] == 'ifrs_Liabilities', 'amount'] / df2.loc[df2['account_code'] == 'ifrs_Assets', 'amount'].values"
   ],
   "metadata": {
    "collapsed": false
   }
  },
  {
   "cell_type": "markdown",
   "source": [
    "# 재무제표에서 해야할 질문\n",
    "## 매출, 영업이익, 비용, 부채\n",
    "\n",
    "   기업가치 = f(매출, 영업이익, 비용, 부채)\n",
    "\n",
    "### 매출이 기간동안 증가하고 있는가?, 얼만큼 증가하는가?\n",
    "\n",
    "### 영업이익이 기간동안 증가하고 있는가?, 얼만큼 증가하는가?\n",
    "\n",
    "### 비용이 기간동안 감소하거나 정체하고 있는가?\n",
    "\n",
    "### 부채가 기간동안 감소하거나 정체하고 있는가?\n",
    "\n",
    "## 최근 4분기(1년) 동안 매출 증가 비율\n",
    "\n",
    "# Macro 분석 지표\n",
    "## 기준 금리\n",
    "### 국채 시장 금리\n",
    "### 회사채 시장 금리\n",
    "## 경제성장률"
   ],
   "metadata": {
    "collapsed": false
   }
  }
 ],
 "metadata": {
  "kernelspec": {
   "display_name": "Python 3",
   "language": "python",
   "name": "python3"
  },
  "language_info": {
   "codemirror_mode": {
    "name": "ipython",
    "version": 2
   },
   "file_extension": ".py",
   "mimetype": "text/x-python",
   "name": "python",
   "nbconvert_exporter": "python",
   "pygments_lexer": "ipython2",
   "version": "2.7.6"
  }
 },
 "nbformat": 4,
 "nbformat_minor": 0
}
